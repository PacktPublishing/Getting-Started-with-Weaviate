{
 "cells": [
  {
   "cell_type": "markdown",
   "metadata": {},
   "source": [
    "Bring up the weaviate server defined in `docker-compose.yml` with the following command:"
   ]
  },
  {
   "cell_type": "code",
   "execution_count": 1,
   "metadata": {},
   "outputs": [
    {
     "name": "stderr",
     "output_type": "stream",
     "text": [
      " Network chapter_01_default  Creating\n",
      " Network chapter_01_default  Created\n",
      " Container chapter_01-weaviate-1  Creating\n",
      " Container chapter_01-weaviate-1  Created\n",
      " Container chapter_01-weaviate-1  Starting\n",
      " Container chapter_01-weaviate-1  Started\n"
     ]
    }
   ],
   "source": [
    "%%bash\n",
    "\n",
    "docker compose up -d"
   ]
  },
  {
   "cell_type": "markdown",
   "metadata": {},
   "source": [
    "We can check that the weaviate container is running with the following command:"
   ]
  },
  {
   "cell_type": "code",
   "execution_count": 2,
   "metadata": {},
   "outputs": [
    {
     "name": "stdout",
     "output_type": "stream",
     "text": [
      "NAME                    IMAGE                              COMMAND                  SERVICE    CREATED        STATUS                  PORTS\n",
      "chapter_01-weaviate-1   semitechnologies/weaviate:1.23.9   \"/bin/weaviate --hos…\"   weaviate   1 second ago   Up Less than a second   0.0.0.0:8080->8080/tcp, 0.0.0.0:50051->50051/tcp\n",
      "chapter_01-weaviate-1   semitechnologies/weaviate:1.23.9   \"/bin/weaviate --hos…\"   weaviate   1 second ago   Up Less than a second   0.0.0.0:8080->8080/tcp, 0.0.0.0:50051->50051/tcp\n"
     ]
    }
   ],
   "source": [
    "%%bash\n",
    "\n",
    "docker compose ps weaviate"
   ]
  },
  {
   "cell_type": "markdown",
   "metadata": {},
   "source": [
    "Another way to verify that the weaviate server is running is to send a GET request to the server's meta endpoint:"
   ]
  },
  {
   "cell_type": "code",
   "execution_count": 3,
   "metadata": {},
   "outputs": [
    {
     "name": "stderr",
     "output_type": "stream",
     "text": [
      "  % Total    % Received % Xferd  Average Speed   Time    Time     Time  Current\n",
      "                                 Dload  Upload   Total   Spent    Left  Speed\n",
      "  0     0    0     0    0     0      0      0 --:--:-- --:--:-- --:--:--     0\n",
      "curl: (56) Recv failure: Connection reset by peer\n"
     ]
    }
   ],
   "source": [
    "%%bash\n",
    "\n",
    "curl http://localhost:8080/v1/meta | jq"
   ]
  },
  {
   "cell_type": "markdown",
   "metadata": {},
   "source": [
    "When you are done with the weaviate server, you can bring it down with the following command:"
   ]
  },
  {
   "cell_type": "code",
   "execution_count": 4,
   "metadata": {},
   "outputs": [
    {
     "name": "stderr",
     "output_type": "stream",
     "text": [
      "Stopping chapter_01-weaviate-1 ... \n",
      "Stopping chapter_01-weaviate-1 ... done\n",
      "Removing chapter_01-weaviate-1 ... \n",
      "Removing chapter_01-weaviate-1 ... done\n",
      "Removing network chapter_01_default\n"
     ]
    }
   ],
   "source": [
    "%%bash\n",
    "\n",
    "docker-compose down"
   ]
  },
  {
   "cell_type": "code",
   "execution_count": 5,
   "metadata": {},
   "outputs": [
    {
     "name": "stdout",
     "output_type": "stream",
     "text": [
      "NAME      IMAGE     COMMAND   SERVICE   CREATED   STATUS    PORTS\n"
     ]
    }
   ],
   "source": [
    "%%bash\n",
    "\n",
    "docker compose ps weaviate"
   ]
  },
  {
   "cell_type": "markdown",
   "metadata": {},
   "source": []
  }
 ],
 "metadata": {
  "kernelspec": {
   "display_name": "Python 3",
   "language": "python",
   "name": "python3"
  },
  "language_info": {
   "codemirror_mode": {
    "name": "ipython",
    "version": 3
   },
   "file_extension": ".py",
   "mimetype": "text/x-python",
   "name": "python",
   "nbconvert_exporter": "python",
   "pygments_lexer": "ipython3",
   "version": "2.7.0"
  }
 },
 "nbformat": 4,
 "nbformat_minor": 2
}
